{
 "cells": [
  {
   "cell_type": "code",
   "execution_count": null,
   "id": "401bd3fb-5582-4747-8516-e22371fbc326",
   "metadata": {},
   "outputs": [],
   "source": []
  },
  {
   "cell_type": "code",
   "execution_count": 15,
   "id": "5d3812df-5b13-42e2-a32c-f28202514e0a",
   "metadata": {
    "tags": []
   },
   "outputs": [],
   "source": [
    "import os\n",
    "import mlflow\n",
    "import pandas as pd\n",
    "import mysql.connector\n",
    "from sklearn.model_selection import train_test_split, GridSearchCV\n",
    "from sklearn.ensemble import RandomForestClassifier\n",
    "from sklearn.preprocessing import LabelEncoder\n",
    "import mlflow.sklearn\n",
    "from itertools import product"
   ]
  },
  {
   "cell_type": "code",
   "execution_count": null,
   "id": "587fb100-2fa5-4464-8dc4-2cd4e907270d",
   "metadata": {},
   "outputs": [],
   "source": []
  },
  {
   "cell_type": "code",
   "execution_count": 2,
   "id": "8d9efa36-a24a-4649-ba38-092f5ab1554e",
   "metadata": {
    "tags": []
   },
   "outputs": [
    {
     "name": "stderr",
     "output_type": "stream",
     "text": [
      "2025/03/16 10:47:46 INFO mlflow.tracking.fluent: Experiment with name 'taller_grupo5' does not exist. Creating a new experiment.\n"
     ]
    },
    {
     "name": "stdout",
     "output_type": "stream",
     "text": [
      "MLflow configurado correctamente\n"
     ]
    }
   ],
   "source": [
    "# ---------------- Configuración de MLflow ----------------\n",
    "os.environ['MLFLOW_S3_ENDPOINT_URL'] = \"http://10.43.101.195:9000\"\n",
    "os.environ['AWS_ACCESS_KEY_ID'] = 'admin'\n",
    "os.environ['AWS_SECRET_ACCESS_KEY'] = 'supersecret'\n",
    "\n",
    "mlflow.set_tracking_uri(\"http://10.43.101.195:5000\")  # Verificar que esté en ejecución\n",
    "mlflow.set_experiment(\"taller_grupo5\")\n",
    "\n",
    "# Configurar el autologging\n",
    "mlflow.sklearn.autolog(log_model_signatures=True, log_input_examples=True, registered_model_name=\"RandomForestModel\")\n",
    "print(\"MLflow configurado correctamente\")"
   ]
  },
  {
   "cell_type": "code",
   "execution_count": 3,
   "id": "6d7c6d46-9ae3-4cbb-a5e6-233ab1d6012c",
   "metadata": {
    "tags": []
   },
   "outputs": [
    {
     "name": "stdout",
     "output_type": "stream",
     "text": [
      "✔ Tabla 'penguins' creada exitosamente.\n"
     ]
    }
   ],
   "source": [
    "# ---------------- Conexión a MySQL ----------------\n",
    "DB_CONFIG = {\n",
    "    \"host\": \"10.43.101.195\",  # ✅ Asegurar que es solo la IP\n",
    "    \"user\": \"admin\",\n",
    "    \"password\": \"admingrupo5\",\n",
    "    \"database\": \"data_db\",\n",
    "    \"port\": 3308  # ✅ Verificar el puerto correcto\n",
    "}\n",
    "\n",
    "try:\n",
    "    conn = mysql.connector.connect(**DB_CONFIG)\n",
    "    cursor = conn.cursor()\n",
    "\n",
    "    # Eliminar la tabla si ya existe\n",
    "    cursor.execute(\"DROP TABLE IF EXISTS penguins;\")\n",
    "\n",
    "    # Crear la tabla\n",
    "    cursor.execute('''\n",
    "        CREATE TABLE penguins (\n",
    "            id INT AUTO_INCREMENT PRIMARY KEY,\n",
    "            species VARCHAR(50) NOT NULL,\n",
    "            island VARCHAR(50) NOT NULL,\n",
    "            culmen_length_mm FLOAT NOT NULL,\n",
    "            culmen_depth_mm FLOAT NOT NULL,\n",
    "            flipper_length_mm FLOAT NOT NULL,\n",
    "            body_mass_g FLOAT NOT NULL,\n",
    "            sex VARCHAR(10) NOT NULL\n",
    "        );\n",
    "    ''')\n",
    "\n",
    "    conn.commit()\n",
    "    print(\"Tabla 'penguins' creada exitosamente.\")\n",
    "\n",
    "    # Cerrar conexiones\n",
    "    cursor.close()\n",
    "    conn.close()\n",
    "\n",
    "except mysql.connector.Error as err:\n",
    "    print(f\"Error al conectar a MySQL: {err}\")"
   ]
  },
  {
   "cell_type": "code",
   "execution_count": 8,
   "id": "2dbd4e91-c764-4b6f-8a56-97e652fcac33",
   "metadata": {
    "scrolled": true,
    "tags": []
   },
   "outputs": [
    {
     "name": "stdout",
     "output_type": "stream",
     "text": [
      "Datos cargados exitosamente. Registros insertados: 334\n"
     ]
    }
   ],
   "source": [
    "try:\n",
    "    # Cargar el dataset desde CSV\n",
    "    df = pd.read_csv(\"/work/data/penguins_size.csv\").dropna()\n",
    "\n",
    "    # Conexión a MySQL\n",
    "    conn = mysql.connector.connect(**DB_CONFIG)\n",
    "    cursor = conn.cursor()\n",
    "\n",
    "    # Consulta SQL optimizada para inserción masiva\n",
    "    query = \"\"\"\n",
    "        INSERT INTO penguins (species, island, culmen_length_mm, culmen_depth_mm, flipper_length_mm, body_mass_g, sex)\n",
    "        VALUES (%s, %s, %s, %s, %s, %s, %s);\n",
    "    \"\"\"\n",
    "\n",
    "    # Convertir el dataframe a una lista de tuplas para ejecutar con `executemany`\n",
    "    data_tuples = list(df.itertuples(index=False, name=None))\n",
    "    \n",
    "    # Insertar los datos en una sola llamada para mejorar rendimiento\n",
    "    cursor.executemany(query, data_tuples)\n",
    "\n",
    "    # Confirmar cambios\n",
    "    conn.commit()\n",
    "    print(f\"Datos cargados exitosamente. Registros insertados: {cursor.rowcount}\")\n",
    "\n",
    "    # Cerrar conexiones\n",
    "    cursor.close()\n",
    "    conn.close()\n",
    "\n",
    "except mysql.connector.Error as err:\n",
    "    print(f\"Error al conectar a MySQL: {err}\")\n",
    "\n",
    "except FileNotFoundError:\n",
    "    print(\"Error: El archivo CSV no fue encontrado.\")"
   ]
  },
  {
   "cell_type": "code",
   "execution_count": 10,
   "id": "4e03edb6-d23f-43ba-aaaf-ea9a905eec3c",
   "metadata": {
    "tags": []
   },
   "outputs": [
    {
     "name": "stdout",
     "output_type": "stream",
     "text": [
      "✔ Datos preprocesados exitosamente. Registros insertados: 1002\n"
     ]
    }
   ],
   "source": [
    "# ---------------- Preprocesamiento de datos en MySQL ----------------\n",
    "try:\n",
    "    # Conectar a MySQL\n",
    "    conn = mysql.connector.connect(**DB_CONFIG)\n",
    "    cursor = conn.cursor()\n",
    "\n",
    "    # Extraer los datos de la tabla original\n",
    "    cursor.execute(\"SELECT id, species, island, culmen_length_mm, culmen_depth_mm, flipper_length_mm, body_mass_g, sex FROM penguins\")\n",
    "    df = pd.DataFrame(cursor.fetchall(), columns=[desc[0] for desc in cursor.description])\n",
    "\n",
    "    # Preprocesamiento: eliminar valores nulos\n",
    "    df.dropna(inplace=True)\n",
    "\n",
    "    # Eliminar la tabla si ya existe\n",
    "    cursor.execute(\"DROP TABLE IF EXISTS penguins_clean\")\n",
    "\n",
    "    # Crear la tabla limpia\n",
    "    cursor.execute('''\n",
    "        CREATE TABLE penguins_clean (\n",
    "            id INT AUTO_INCREMENT PRIMARY KEY,\n",
    "            species VARCHAR(50),\n",
    "            island VARCHAR(50),\n",
    "            culmen_length_mm FLOAT,\n",
    "            culmen_depth_mm FLOAT,\n",
    "            flipper_length_mm FLOAT,\n",
    "            body_mass_g FLOAT,\n",
    "            sex VARCHAR(10)\n",
    "        );\n",
    "    ''')\n",
    "\n",
    "    # **Verificar qué columnas estamos insertando**\n",
    "    df = df[['species', 'island', 'culmen_length_mm', 'culmen_depth_mm', 'flipper_length_mm', 'body_mass_g', 'sex']]\n",
    "\n",
    "    # **Convertir a tuplas**\n",
    "    data = [tuple(row) for row in df.to_numpy()]\n",
    "\n",
    "    # **Insertar los datos limpios con `executemany()`**\n",
    "    query = \"\"\"\n",
    "        INSERT INTO penguins_clean (species, island, culmen_length_mm, culmen_depth_mm, flipper_length_mm, body_mass_g, sex)\n",
    "        VALUES (%s, %s, %s, %s, %s, %s, %s);\n",
    "    \"\"\"\n",
    "    cursor.executemany(query, data)\n",
    "\n",
    "    # Confirmar cambios\n",
    "    conn.commit()\n",
    "    print(f\"Datos preprocesados exitosamente. Registros insertados: {cursor.rowcount}\")\n",
    "\n",
    "    # Cerrar conexiones\n",
    "    cursor.close()\n",
    "    conn.close()\n",
    "\n",
    "except mysql.connector.Error as err:\n",
    "    print(f\"Error al conectar a MySQL: {err}\")"
   ]
  },
  {
   "cell_type": "code",
   "execution_count": 16,
   "id": "75a5fe06-f74c-4d27-be39-a38b1c4fae0e",
   "metadata": {
    "tags": []
   },
   "outputs": [
    {
     "name": "stdout",
     "output_type": "stream",
     "text": [
      "Datos cargados exitosamente desde MySQL\n"
     ]
    },
    {
     "name": "stderr",
     "output_type": "stream",
     "text": [
      "Registered model 'RandomForestModel' already exists. Creating a new version of this model...\n",
      "2025/03/16 11:05:58 INFO mlflow.tracking._model_registry.client: Waiting up to 300 seconds for model version to finish creation. Model name: RandomForestModel, version 2\n",
      "Created version '2' of model 'RandomForestModel'.\n"
     ]
    },
    {
     "name": "stdout",
     "output_type": "stream",
     "text": [
      "Experimento 1/20 completado con parámetros: {'n_estimators': 25, 'max_depth': 4, 'max_features': 2}\n"
     ]
    },
    {
     "name": "stderr",
     "output_type": "stream",
     "text": [
      "Registered model 'RandomForestModel' already exists. Creating a new version of this model...\n",
      "2025/03/16 11:06:05 INFO mlflow.tracking._model_registry.client: Waiting up to 300 seconds for model version to finish creation. Model name: RandomForestModel, version 3\n",
      "Created version '3' of model 'RandomForestModel'.\n"
     ]
    },
    {
     "name": "stdout",
     "output_type": "stream",
     "text": [
      "Experimento 2/20 completado con parámetros: {'n_estimators': 25, 'max_depth': 4, 'max_features': 3}\n"
     ]
    },
    {
     "name": "stderr",
     "output_type": "stream",
     "text": [
      "Registered model 'RandomForestModel' already exists. Creating a new version of this model...\n",
      "2025/03/16 11:06:11 INFO mlflow.tracking._model_registry.client: Waiting up to 300 seconds for model version to finish creation. Model name: RandomForestModel, version 4\n",
      "Created version '4' of model 'RandomForestModel'.\n"
     ]
    },
    {
     "name": "stdout",
     "output_type": "stream",
     "text": [
      "Experimento 3/20 completado con parámetros: {'n_estimators': 25, 'max_depth': 4, 'max_features': 4}\n"
     ]
    },
    {
     "name": "stderr",
     "output_type": "stream",
     "text": [
      "Registered model 'RandomForestModel' already exists. Creating a new version of this model...\n",
      "2025/03/16 11:06:18 INFO mlflow.tracking._model_registry.client: Waiting up to 300 seconds for model version to finish creation. Model name: RandomForestModel, version 5\n",
      "Created version '5' of model 'RandomForestModel'.\n"
     ]
    },
    {
     "name": "stdout",
     "output_type": "stream",
     "text": [
      "Experimento 4/20 completado con parámetros: {'n_estimators': 25, 'max_depth': 6, 'max_features': 2}\n"
     ]
    },
    {
     "name": "stderr",
     "output_type": "stream",
     "text": [
      "Registered model 'RandomForestModel' already exists. Creating a new version of this model...\n",
      "2025/03/16 11:06:25 INFO mlflow.tracking._model_registry.client: Waiting up to 300 seconds for model version to finish creation. Model name: RandomForestModel, version 6\n",
      "Created version '6' of model 'RandomForestModel'.\n"
     ]
    },
    {
     "name": "stdout",
     "output_type": "stream",
     "text": [
      "Experimento 5/20 completado con parámetros: {'n_estimators': 25, 'max_depth': 6, 'max_features': 3}\n"
     ]
    },
    {
     "name": "stderr",
     "output_type": "stream",
     "text": [
      "Registered model 'RandomForestModel' already exists. Creating a new version of this model...\n",
      "2025/03/16 11:06:31 INFO mlflow.tracking._model_registry.client: Waiting up to 300 seconds for model version to finish creation. Model name: RandomForestModel, version 7\n",
      "Created version '7' of model 'RandomForestModel'.\n"
     ]
    },
    {
     "name": "stdout",
     "output_type": "stream",
     "text": [
      "Experimento 6/20 completado con parámetros: {'n_estimators': 25, 'max_depth': 6, 'max_features': 4}\n"
     ]
    },
    {
     "name": "stderr",
     "output_type": "stream",
     "text": [
      "Registered model 'RandomForestModel' already exists. Creating a new version of this model...\n",
      "2025/03/16 11:06:38 INFO mlflow.tracking._model_registry.client: Waiting up to 300 seconds for model version to finish creation. Model name: RandomForestModel, version 8\n",
      "Created version '8' of model 'RandomForestModel'.\n"
     ]
    },
    {
     "name": "stdout",
     "output_type": "stream",
     "text": [
      "Experimento 7/20 completado con parámetros: {'n_estimators': 25, 'max_depth': 8, 'max_features': 2}\n"
     ]
    },
    {
     "name": "stderr",
     "output_type": "stream",
     "text": [
      "Registered model 'RandomForestModel' already exists. Creating a new version of this model...\n",
      "2025/03/16 11:06:45 INFO mlflow.tracking._model_registry.client: Waiting up to 300 seconds for model version to finish creation. Model name: RandomForestModel, version 9\n",
      "Created version '9' of model 'RandomForestModel'.\n"
     ]
    },
    {
     "name": "stdout",
     "output_type": "stream",
     "text": [
      "Experimento 8/20 completado con parámetros: {'n_estimators': 25, 'max_depth': 8, 'max_features': 3}\n"
     ]
    },
    {
     "name": "stderr",
     "output_type": "stream",
     "text": [
      "Registered model 'RandomForestModel' already exists. Creating a new version of this model...\n",
      "2025/03/16 11:06:52 INFO mlflow.tracking._model_registry.client: Waiting up to 300 seconds for model version to finish creation. Model name: RandomForestModel, version 10\n",
      "Created version '10' of model 'RandomForestModel'.\n"
     ]
    },
    {
     "name": "stdout",
     "output_type": "stream",
     "text": [
      "Experimento 9/20 completado con parámetros: {'n_estimators': 25, 'max_depth': 8, 'max_features': 4}\n"
     ]
    },
    {
     "name": "stderr",
     "output_type": "stream",
     "text": [
      "Registered model 'RandomForestModel' already exists. Creating a new version of this model...\n",
      "2025/03/16 11:06:59 INFO mlflow.tracking._model_registry.client: Waiting up to 300 seconds for model version to finish creation. Model name: RandomForestModel, version 11\n",
      "Created version '11' of model 'RandomForestModel'.\n"
     ]
    },
    {
     "name": "stdout",
     "output_type": "stream",
     "text": [
      "Experimento 10/20 completado con parámetros: {'n_estimators': 25, 'max_depth': 10, 'max_features': 2}\n"
     ]
    },
    {
     "name": "stderr",
     "output_type": "stream",
     "text": [
      "Registered model 'RandomForestModel' already exists. Creating a new version of this model...\n",
      "2025/03/16 11:07:06 INFO mlflow.tracking._model_registry.client: Waiting up to 300 seconds for model version to finish creation. Model name: RandomForestModel, version 12\n",
      "Created version '12' of model 'RandomForestModel'.\n"
     ]
    },
    {
     "name": "stdout",
     "output_type": "stream",
     "text": [
      "Experimento 11/20 completado con parámetros: {'n_estimators': 25, 'max_depth': 10, 'max_features': 3}\n"
     ]
    },
    {
     "name": "stderr",
     "output_type": "stream",
     "text": [
      "Registered model 'RandomForestModel' already exists. Creating a new version of this model...\n",
      "2025/03/16 11:07:13 INFO mlflow.tracking._model_registry.client: Waiting up to 300 seconds for model version to finish creation. Model name: RandomForestModel, version 13\n",
      "Created version '13' of model 'RandomForestModel'.\n"
     ]
    },
    {
     "name": "stdout",
     "output_type": "stream",
     "text": [
      "Experimento 12/20 completado con parámetros: {'n_estimators': 25, 'max_depth': 10, 'max_features': 4}\n"
     ]
    },
    {
     "name": "stderr",
     "output_type": "stream",
     "text": [
      "Registered model 'RandomForestModel' already exists. Creating a new version of this model...\n",
      "2025/03/16 11:07:20 INFO mlflow.tracking._model_registry.client: Waiting up to 300 seconds for model version to finish creation. Model name: RandomForestModel, version 14\n",
      "Created version '14' of model 'RandomForestModel'.\n"
     ]
    },
    {
     "name": "stdout",
     "output_type": "stream",
     "text": [
      "Experimento 13/20 completado con parámetros: {'n_estimators': 50, 'max_depth': 4, 'max_features': 2}\n"
     ]
    },
    {
     "name": "stderr",
     "output_type": "stream",
     "text": [
      "Registered model 'RandomForestModel' already exists. Creating a new version of this model...\n",
      "2025/03/16 11:07:27 INFO mlflow.tracking._model_registry.client: Waiting up to 300 seconds for model version to finish creation. Model name: RandomForestModel, version 15\n",
      "Created version '15' of model 'RandomForestModel'.\n"
     ]
    },
    {
     "name": "stdout",
     "output_type": "stream",
     "text": [
      "Experimento 14/20 completado con parámetros: {'n_estimators': 50, 'max_depth': 4, 'max_features': 3}\n"
     ]
    },
    {
     "name": "stderr",
     "output_type": "stream",
     "text": [
      "Registered model 'RandomForestModel' already exists. Creating a new version of this model...\n",
      "2025/03/16 11:07:34 INFO mlflow.tracking._model_registry.client: Waiting up to 300 seconds for model version to finish creation. Model name: RandomForestModel, version 16\n",
      "Created version '16' of model 'RandomForestModel'.\n"
     ]
    },
    {
     "name": "stdout",
     "output_type": "stream",
     "text": [
      "Experimento 15/20 completado con parámetros: {'n_estimators': 50, 'max_depth': 4, 'max_features': 4}\n"
     ]
    },
    {
     "name": "stderr",
     "output_type": "stream",
     "text": [
      "Registered model 'RandomForestModel' already exists. Creating a new version of this model...\n",
      "2025/03/16 11:07:40 INFO mlflow.tracking._model_registry.client: Waiting up to 300 seconds for model version to finish creation. Model name: RandomForestModel, version 17\n",
      "Created version '17' of model 'RandomForestModel'.\n"
     ]
    },
    {
     "name": "stdout",
     "output_type": "stream",
     "text": [
      "Experimento 16/20 completado con parámetros: {'n_estimators': 50, 'max_depth': 6, 'max_features': 2}\n"
     ]
    },
    {
     "name": "stderr",
     "output_type": "stream",
     "text": [
      "Registered model 'RandomForestModel' already exists. Creating a new version of this model...\n",
      "2025/03/16 11:07:47 INFO mlflow.tracking._model_registry.client: Waiting up to 300 seconds for model version to finish creation. Model name: RandomForestModel, version 18\n",
      "Created version '18' of model 'RandomForestModel'.\n"
     ]
    },
    {
     "name": "stdout",
     "output_type": "stream",
     "text": [
      "Experimento 17/20 completado con parámetros: {'n_estimators': 50, 'max_depth': 6, 'max_features': 3}\n"
     ]
    },
    {
     "name": "stderr",
     "output_type": "stream",
     "text": [
      "Registered model 'RandomForestModel' already exists. Creating a new version of this model...\n",
      "2025/03/16 11:07:55 INFO mlflow.tracking._model_registry.client: Waiting up to 300 seconds for model version to finish creation. Model name: RandomForestModel, version 19\n",
      "Created version '19' of model 'RandomForestModel'.\n"
     ]
    },
    {
     "name": "stdout",
     "output_type": "stream",
     "text": [
      "Experimento 18/20 completado con parámetros: {'n_estimators': 50, 'max_depth': 6, 'max_features': 4}\n"
     ]
    },
    {
     "name": "stderr",
     "output_type": "stream",
     "text": [
      "Registered model 'RandomForestModel' already exists. Creating a new version of this model...\n",
      "2025/03/16 11:08:03 INFO mlflow.tracking._model_registry.client: Waiting up to 300 seconds for model version to finish creation. Model name: RandomForestModel, version 20\n",
      "Created version '20' of model 'RandomForestModel'.\n"
     ]
    },
    {
     "name": "stdout",
     "output_type": "stream",
     "text": [
      "Experimento 19/20 completado con parámetros: {'n_estimators': 50, 'max_depth': 8, 'max_features': 2}\n"
     ]
    },
    {
     "name": "stderr",
     "output_type": "stream",
     "text": [
      "Registered model 'RandomForestModel' already exists. Creating a new version of this model...\n",
      "2025/03/16 11:08:10 INFO mlflow.tracking._model_registry.client: Waiting up to 300 seconds for model version to finish creation. Model name: RandomForestModel, version 21\n",
      "Created version '21' of model 'RandomForestModel'.\n"
     ]
    },
    {
     "name": "stdout",
     "output_type": "stream",
     "text": [
      "Experimento 20/20 completado con parámetros: {'n_estimators': 50, 'max_depth': 8, 'max_features': 3}\n"
     ]
    },
    {
     "name": "stderr",
     "output_type": "stream",
     "text": [
      "Registered model 'RandomForestModel' already exists. Creating a new version of this model...\n",
      "2025/03/16 11:08:18 INFO mlflow.tracking._model_registry.client: Waiting up to 300 seconds for model version to finish creation. Model name: RandomForestModel, version 22\n",
      "Created version '22' of model 'RandomForestModel'.\n"
     ]
    },
    {
     "name": "stdout",
     "output_type": "stream",
     "text": [
      "Experimento 21/20 completado con parámetros: {'n_estimators': 50, 'max_depth': 8, 'max_features': 4}\n"
     ]
    },
    {
     "name": "stderr",
     "output_type": "stream",
     "text": [
      "Registered model 'RandomForestModel' already exists. Creating a new version of this model...\n",
      "2025/03/16 11:08:25 INFO mlflow.tracking._model_registry.client: Waiting up to 300 seconds for model version to finish creation. Model name: RandomForestModel, version 23\n",
      "Created version '23' of model 'RandomForestModel'.\n"
     ]
    },
    {
     "name": "stdout",
     "output_type": "stream",
     "text": [
      "Experimento 22/20 completado con parámetros: {'n_estimators': 50, 'max_depth': 10, 'max_features': 2}\n"
     ]
    },
    {
     "name": "stderr",
     "output_type": "stream",
     "text": [
      "Registered model 'RandomForestModel' already exists. Creating a new version of this model...\n",
      "2025/03/16 11:08:32 INFO mlflow.tracking._model_registry.client: Waiting up to 300 seconds for model version to finish creation. Model name: RandomForestModel, version 24\n",
      "Created version '24' of model 'RandomForestModel'.\n"
     ]
    },
    {
     "name": "stdout",
     "output_type": "stream",
     "text": [
      "Experimento 23/20 completado con parámetros: {'n_estimators': 50, 'max_depth': 10, 'max_features': 3}\n"
     ]
    },
    {
     "name": "stderr",
     "output_type": "stream",
     "text": [
      "Registered model 'RandomForestModel' already exists. Creating a new version of this model...\n",
      "2025/03/16 11:08:38 INFO mlflow.tracking._model_registry.client: Waiting up to 300 seconds for model version to finish creation. Model name: RandomForestModel, version 25\n",
      "Created version '25' of model 'RandomForestModel'.\n"
     ]
    },
    {
     "name": "stdout",
     "output_type": "stream",
     "text": [
      "Experimento 24/20 completado con parámetros: {'n_estimators': 50, 'max_depth': 10, 'max_features': 4}\n"
     ]
    },
    {
     "name": "stderr",
     "output_type": "stream",
     "text": [
      "Registered model 'RandomForestModel' already exists. Creating a new version of this model...\n",
      "2025/03/16 11:08:46 INFO mlflow.tracking._model_registry.client: Waiting up to 300 seconds for model version to finish creation. Model name: RandomForestModel, version 26\n",
      "Created version '26' of model 'RandomForestModel'.\n"
     ]
    },
    {
     "name": "stdout",
     "output_type": "stream",
     "text": [
      "Experimento 25/20 completado con parámetros: {'n_estimators': 100, 'max_depth': 4, 'max_features': 2}\n"
     ]
    },
    {
     "name": "stderr",
     "output_type": "stream",
     "text": [
      "Registered model 'RandomForestModel' already exists. Creating a new version of this model...\n",
      "2025/03/16 11:08:52 INFO mlflow.tracking._model_registry.client: Waiting up to 300 seconds for model version to finish creation. Model name: RandomForestModel, version 27\n",
      "Created version '27' of model 'RandomForestModel'.\n"
     ]
    },
    {
     "name": "stdout",
     "output_type": "stream",
     "text": [
      "Experimento 26/20 completado con parámetros: {'n_estimators': 100, 'max_depth': 4, 'max_features': 3}\n"
     ]
    },
    {
     "name": "stderr",
     "output_type": "stream",
     "text": [
      "Registered model 'RandomForestModel' already exists. Creating a new version of this model...\n",
      "2025/03/16 11:09:00 INFO mlflow.tracking._model_registry.client: Waiting up to 300 seconds for model version to finish creation. Model name: RandomForestModel, version 28\n",
      "Created version '28' of model 'RandomForestModel'.\n"
     ]
    },
    {
     "name": "stdout",
     "output_type": "stream",
     "text": [
      "Experimento 27/20 completado con parámetros: {'n_estimators': 100, 'max_depth': 4, 'max_features': 4}\n"
     ]
    },
    {
     "name": "stderr",
     "output_type": "stream",
     "text": [
      "Registered model 'RandomForestModel' already exists. Creating a new version of this model...\n",
      "2025/03/16 11:09:07 INFO mlflow.tracking._model_registry.client: Waiting up to 300 seconds for model version to finish creation. Model name: RandomForestModel, version 29\n",
      "Created version '29' of model 'RandomForestModel'.\n"
     ]
    },
    {
     "name": "stdout",
     "output_type": "stream",
     "text": [
      "Experimento 28/20 completado con parámetros: {'n_estimators': 100, 'max_depth': 6, 'max_features': 2}\n"
     ]
    },
    {
     "name": "stderr",
     "output_type": "stream",
     "text": [
      "Registered model 'RandomForestModel' already exists. Creating a new version of this model...\n",
      "2025/03/16 11:09:14 INFO mlflow.tracking._model_registry.client: Waiting up to 300 seconds for model version to finish creation. Model name: RandomForestModel, version 30\n",
      "Created version '30' of model 'RandomForestModel'.\n"
     ]
    },
    {
     "name": "stdout",
     "output_type": "stream",
     "text": [
      "Experimento 29/20 completado con parámetros: {'n_estimators': 100, 'max_depth': 6, 'max_features': 3}\n"
     ]
    },
    {
     "name": "stderr",
     "output_type": "stream",
     "text": [
      "Registered model 'RandomForestModel' already exists. Creating a new version of this model...\n",
      "2025/03/16 11:09:21 INFO mlflow.tracking._model_registry.client: Waiting up to 300 seconds for model version to finish creation. Model name: RandomForestModel, version 31\n",
      "Created version '31' of model 'RandomForestModel'.\n"
     ]
    },
    {
     "name": "stdout",
     "output_type": "stream",
     "text": [
      "Experimento 30/20 completado con parámetros: {'n_estimators': 100, 'max_depth': 6, 'max_features': 4}\n"
     ]
    },
    {
     "name": "stderr",
     "output_type": "stream",
     "text": [
      "Registered model 'RandomForestModel' already exists. Creating a new version of this model...\n",
      "2025/03/16 11:09:27 INFO mlflow.tracking._model_registry.client: Waiting up to 300 seconds for model version to finish creation. Model name: RandomForestModel, version 32\n",
      "Created version '32' of model 'RandomForestModel'.\n"
     ]
    },
    {
     "name": "stdout",
     "output_type": "stream",
     "text": [
      "Experimento 31/20 completado con parámetros: {'n_estimators': 100, 'max_depth': 8, 'max_features': 2}\n"
     ]
    },
    {
     "name": "stderr",
     "output_type": "stream",
     "text": [
      "Registered model 'RandomForestModel' already exists. Creating a new version of this model...\n",
      "2025/03/16 11:09:34 INFO mlflow.tracking._model_registry.client: Waiting up to 300 seconds for model version to finish creation. Model name: RandomForestModel, version 33\n",
      "Created version '33' of model 'RandomForestModel'.\n"
     ]
    },
    {
     "name": "stdout",
     "output_type": "stream",
     "text": [
      "Experimento 32/20 completado con parámetros: {'n_estimators': 100, 'max_depth': 8, 'max_features': 3}\n"
     ]
    },
    {
     "name": "stderr",
     "output_type": "stream",
     "text": [
      "Registered model 'RandomForestModel' already exists. Creating a new version of this model...\n",
      "2025/03/16 11:09:41 INFO mlflow.tracking._model_registry.client: Waiting up to 300 seconds for model version to finish creation. Model name: RandomForestModel, version 34\n",
      "Created version '34' of model 'RandomForestModel'.\n"
     ]
    },
    {
     "name": "stdout",
     "output_type": "stream",
     "text": [
      "Experimento 33/20 completado con parámetros: {'n_estimators': 100, 'max_depth': 8, 'max_features': 4}\n"
     ]
    },
    {
     "name": "stderr",
     "output_type": "stream",
     "text": [
      "Registered model 'RandomForestModel' already exists. Creating a new version of this model...\n",
      "2025/03/16 11:09:48 INFO mlflow.tracking._model_registry.client: Waiting up to 300 seconds for model version to finish creation. Model name: RandomForestModel, version 35\n",
      "Created version '35' of model 'RandomForestModel'.\n"
     ]
    },
    {
     "name": "stdout",
     "output_type": "stream",
     "text": [
      "Experimento 34/20 completado con parámetros: {'n_estimators': 100, 'max_depth': 10, 'max_features': 2}\n"
     ]
    },
    {
     "name": "stderr",
     "output_type": "stream",
     "text": [
      "Registered model 'RandomForestModel' already exists. Creating a new version of this model...\n",
      "2025/03/16 11:09:55 INFO mlflow.tracking._model_registry.client: Waiting up to 300 seconds for model version to finish creation. Model name: RandomForestModel, version 36\n",
      "Created version '36' of model 'RandomForestModel'.\n"
     ]
    },
    {
     "name": "stdout",
     "output_type": "stream",
     "text": [
      "Experimento 35/20 completado con parámetros: {'n_estimators': 100, 'max_depth': 10, 'max_features': 3}\n"
     ]
    },
    {
     "name": "stderr",
     "output_type": "stream",
     "text": [
      "Registered model 'RandomForestModel' already exists. Creating a new version of this model...\n",
      "2025/03/16 11:10:02 INFO mlflow.tracking._model_registry.client: Waiting up to 300 seconds for model version to finish creation. Model name: RandomForestModel, version 37\n",
      "Created version '37' of model 'RandomForestModel'.\n"
     ]
    },
    {
     "name": "stdout",
     "output_type": "stream",
     "text": [
      "Experimento 36/20 completado con parámetros: {'n_estimators': 100, 'max_depth': 10, 'max_features': 4}\n",
      "Todos los experimentos fueron registrados en MLflow.\n"
     ]
    }
   ],
   "source": [
    "\n",
    "from itertools import product\n",
    "from sklearn.model_selection import train_test_split\n",
    "from sklearn.preprocessing import LabelEncoder\n",
    "from sklearn.ensemble import RandomForestClassifier\n",
    "\n",
    "\n",
    "# ---------------- Conectar y obtener datos de MySQL ----------------\n",
    "try:\n",
    "    conn = mysql.connector.connect(**DB_CONFIG)\n",
    "    cursor = conn.cursor()\n",
    "    \n",
    "    # Obtener datos preprocesados\n",
    "    cursor.execute(\"SELECT id, species, island, culmen_length_mm, culmen_depth_mm, flipper_length_mm, body_mass_g, sex FROM penguins_clean\")\n",
    "    df = pd.DataFrame(cursor.fetchall(), columns=[desc[0] for desc in cursor.description])\n",
    "\n",
    "    # Cerrar conexión a MySQL\n",
    "    cursor.close()\n",
    "    conn.close()\n",
    "\n",
    "    print(\"Datos cargados exitosamente desde MySQL\")\n",
    "\n",
    "except mysql.connector.Error as err:\n",
    "    print(f\"Error al conectar a MySQL: {err}\")\n",
    "    exit()\n",
    "\n",
    "# ---------------- Preparación de datos ----------------\n",
    "X = df[['culmen_length_mm', 'culmen_depth_mm', 'flipper_length_mm', 'body_mass_g']]\n",
    "y = df['species']\n",
    "\n",
    "# Convertir la variable objetivo a valores numéricos con LabelEncoder\n",
    "label_encoder = LabelEncoder()\n",
    "y = label_encoder.fit_transform(y)\n",
    "\n",
    "# Guardar el LabelEncoder para usarlo en la inferencia\n",
    "with open(\"label_encoder.pkl\", \"wb\") as f:\n",
    "    pickle.dump(label_encoder, f)\n",
    "\n",
    "# Dividir en entrenamiento y prueba\n",
    "X_train, X_test, y_train, y_test = train_test_split(X, y, test_size=0.2, random_state=42)\n",
    "\n",
    "# ---------------- Configuración de MLflow ----------------\n",
    "mlflow.set_tracking_uri(\"http://10.43.101.195:5000\")\n",
    "mlflow.set_experiment(\"taller_grupo5\")\n",
    "\n",
    "# ---------------- Definir combinaciones de hiperparámetros ----------------\n",
    "param_grid = {\n",
    "    \"n_estimators\": [25, 50, 100],\n",
    "    \"max_depth\": [4, 6, 8, 10],\n",
    "    \"max_features\": [2, 3, 4]\n",
    "}\n",
    "\n",
    "# Obtener todas las combinaciones posibles y tomar las primeras 20\n",
    "param_combinations = list(product(\n",
    "    param_grid[\"n_estimators\"],\n",
    "    param_grid[\"max_depth\"],\n",
    "    param_grid[\"max_features\"]\n",
    "))\n",
    "\n",
    "# ---------------- Ejecutar 20 experimentos con combinaciones únicas ----------------\n",
    "for exp_id, (n_estimators, max_depth, max_features) in enumerate(param_combinations):\n",
    "    params = {\n",
    "        \"n_estimators\": n_estimators,\n",
    "        \"max_depth\": max_depth,\n",
    "        \"max_features\": max_features\n",
    "    }\n",
    "\n",
    "    # Inicializar modelo con hiperparámetros seleccionados\n",
    "    rf = RandomForestClassifier(\n",
    "        n_estimators=n_estimators,\n",
    "        max_depth=max_depth,\n",
    "        max_features=max_features,\n",
    "        random_state=42\n",
    "    )\n",
    "\n",
    "    with mlflow.start_run(run_name=f\"Exp_{exp_id}\"):\n",
    "        # Entrenar modelo\n",
    "        rf.fit(X_train, y_train)\n",
    "\n",
    "        # Registrar hiperparámetros en MLflow\n",
    "        mlflow.log_params(params)\n",
    "\n",
    "        # Guardar el modelo en MLflow\n",
    "        mlflow.sklearn.log_model(rf, \"random_forest_model\")\n",
    "\n",
    "        # Subir el LabelEncoder a MLflow\n",
    "        mlflow.log_artifact(\"label_encoder.pkl\")\n",
    "\n",
    "        print(f\"Experimento {exp_id + 1} completado con parámetros: {params}\")\n",
    "\n",
    "print(\"Todos los experimentos fueron registrados en MLflow.\")\n"
   ]
  },
  {
   "cell_type": "code",
   "execution_count": 21,
   "id": "d2eb002f-3d97-4404-874b-29ab1656203c",
   "metadata": {
    "tags": []
   },
   "outputs": [
    {
     "name": "stdout",
     "output_type": "stream",
     "text": [
      "Datos cargados exitosamente desde MySQL\n",
      "Fitting 3 folds for each of 48 candidates, totalling 144 fits\n",
      "[CV] END .......max_depth=4, max_features=2, n_estimators=25; total time=   0.1s\n",
      "[CV] END .......max_depth=4, max_features=2, n_estimators=25; total time=   0.1s\n",
      "[CV] END .......max_depth=4, max_features=2, n_estimators=25; total time=   0.1s\n",
      "[CV] END .......max_depth=4, max_features=2, n_estimators=50; total time=   0.1s\n",
      "[CV] END .......max_depth=4, max_features=2, n_estimators=50; total time=   0.1s\n",
      "[CV] END .......max_depth=4, max_features=2, n_estimators=50; total time=   0.1s\n",
      "[CV] END .......max_depth=4, max_features=2, n_estimators=75; total time=   0.2s\n",
      "[CV] END .......max_depth=4, max_features=2, n_estimators=75; total time=   0.2s\n",
      "[CV] END .......max_depth=4, max_features=2, n_estimators=75; total time=   0.2s\n",
      "[CV] END ......max_depth=4, max_features=2, n_estimators=100; total time=   0.3s\n",
      "[CV] END ......max_depth=4, max_features=2, n_estimators=100; total time=   0.3s\n",
      "[CV] END ......max_depth=4, max_features=2, n_estimators=100; total time=   0.3s\n",
      "[CV] END .......max_depth=4, max_features=3, n_estimators=25; total time=   0.1s\n",
      "[CV] END .......max_depth=4, max_features=3, n_estimators=25; total time=   0.1s\n",
      "[CV] END .......max_depth=4, max_features=3, n_estimators=25; total time=   0.1s\n",
      "[CV] END .......max_depth=4, max_features=3, n_estimators=50; total time=   0.1s\n",
      "[CV] END .......max_depth=4, max_features=3, n_estimators=50; total time=   0.1s\n",
      "[CV] END .......max_depth=4, max_features=3, n_estimators=50; total time=   0.1s\n",
      "[CV] END .......max_depth=4, max_features=3, n_estimators=75; total time=   0.2s\n",
      "[CV] END .......max_depth=4, max_features=3, n_estimators=75; total time=   0.2s\n",
      "[CV] END .......max_depth=4, max_features=3, n_estimators=75; total time=   0.2s\n",
      "[CV] END ......max_depth=4, max_features=3, n_estimators=100; total time=   0.3s\n",
      "[CV] END ......max_depth=4, max_features=3, n_estimators=100; total time=   0.3s\n",
      "[CV] END ......max_depth=4, max_features=3, n_estimators=100; total time=   0.3s\n",
      "[CV] END .......max_depth=4, max_features=4, n_estimators=25; total time=   0.1s\n",
      "[CV] END .......max_depth=4, max_features=4, n_estimators=25; total time=   0.1s\n",
      "[CV] END .......max_depth=4, max_features=4, n_estimators=25; total time=   0.1s\n",
      "[CV] END .......max_depth=4, max_features=4, n_estimators=50; total time=   0.1s\n",
      "[CV] END .......max_depth=4, max_features=4, n_estimators=50; total time=   0.1s\n",
      "[CV] END .......max_depth=4, max_features=4, n_estimators=50; total time=   0.1s\n",
      "[CV] END .......max_depth=4, max_features=4, n_estimators=75; total time=   0.2s\n",
      "[CV] END .......max_depth=4, max_features=4, n_estimators=75; total time=   0.2s\n",
      "[CV] END .......max_depth=4, max_features=4, n_estimators=75; total time=   0.2s\n",
      "[CV] END ......max_depth=4, max_features=4, n_estimators=100; total time=   0.3s\n",
      "[CV] END ......max_depth=4, max_features=4, n_estimators=100; total time=   0.3s\n",
      "[CV] END ......max_depth=4, max_features=4, n_estimators=100; total time=   0.3s\n",
      "[CV] END .......max_depth=6, max_features=2, n_estimators=25; total time=   0.1s\n",
      "[CV] END .......max_depth=6, max_features=2, n_estimators=25; total time=   0.1s\n",
      "[CV] END .......max_depth=6, max_features=2, n_estimators=25; total time=   0.1s\n",
      "[CV] END .......max_depth=6, max_features=2, n_estimators=50; total time=   0.1s\n",
      "[CV] END .......max_depth=6, max_features=2, n_estimators=50; total time=   0.1s\n",
      "[CV] END .......max_depth=6, max_features=2, n_estimators=50; total time=   0.1s\n",
      "[CV] END .......max_depth=6, max_features=2, n_estimators=75; total time=   0.2s\n",
      "[CV] END .......max_depth=6, max_features=2, n_estimators=75; total time=   0.2s\n",
      "[CV] END .......max_depth=6, max_features=2, n_estimators=75; total time=   0.2s\n",
      "[CV] END ......max_depth=6, max_features=2, n_estimators=100; total time=   0.3s\n",
      "[CV] END ......max_depth=6, max_features=2, n_estimators=100; total time=   0.3s\n",
      "[CV] END ......max_depth=6, max_features=2, n_estimators=100; total time=   0.3s\n",
      "[CV] END .......max_depth=6, max_features=3, n_estimators=25; total time=   0.1s\n",
      "[CV] END .......max_depth=6, max_features=3, n_estimators=25; total time=   0.1s\n",
      "[CV] END .......max_depth=6, max_features=3, n_estimators=25; total time=   0.1s\n",
      "[CV] END .......max_depth=6, max_features=3, n_estimators=50; total time=   0.1s\n",
      "[CV] END .......max_depth=6, max_features=3, n_estimators=50; total time=   0.1s\n",
      "[CV] END .......max_depth=6, max_features=3, n_estimators=50; total time=   0.1s\n",
      "[CV] END .......max_depth=6, max_features=3, n_estimators=75; total time=   0.2s\n",
      "[CV] END .......max_depth=6, max_features=3, n_estimators=75; total time=   0.2s\n",
      "[CV] END .......max_depth=6, max_features=3, n_estimators=75; total time=   0.2s\n",
      "[CV] END ......max_depth=6, max_features=3, n_estimators=100; total time=   0.3s\n",
      "[CV] END ......max_depth=6, max_features=3, n_estimators=100; total time=   0.3s\n",
      "[CV] END ......max_depth=6, max_features=3, n_estimators=100; total time=   0.3s\n",
      "[CV] END .......max_depth=6, max_features=4, n_estimators=25; total time=   0.1s\n",
      "[CV] END .......max_depth=6, max_features=4, n_estimators=25; total time=   0.1s\n",
      "[CV] END .......max_depth=6, max_features=4, n_estimators=25; total time=   0.1s\n",
      "[CV] END .......max_depth=6, max_features=4, n_estimators=50; total time=   0.1s\n",
      "[CV] END .......max_depth=6, max_features=4, n_estimators=50; total time=   0.1s\n",
      "[CV] END .......max_depth=6, max_features=4, n_estimators=50; total time=   0.2s\n",
      "[CV] END .......max_depth=6, max_features=4, n_estimators=75; total time=   0.2s\n",
      "[CV] END .......max_depth=6, max_features=4, n_estimators=75; total time=   0.2s\n",
      "[CV] END .......max_depth=6, max_features=4, n_estimators=75; total time=   0.2s\n",
      "[CV] END ......max_depth=6, max_features=4, n_estimators=100; total time=   0.3s\n",
      "[CV] END ......max_depth=6, max_features=4, n_estimators=100; total time=   0.3s\n",
      "[CV] END ......max_depth=6, max_features=4, n_estimators=100; total time=   0.3s\n",
      "[CV] END .......max_depth=8, max_features=2, n_estimators=25; total time=   0.1s\n",
      "[CV] END .......max_depth=8, max_features=2, n_estimators=25; total time=   0.1s\n",
      "[CV] END .......max_depth=8, max_features=2, n_estimators=25; total time=   0.1s\n",
      "[CV] END .......max_depth=8, max_features=2, n_estimators=50; total time=   0.1s\n",
      "[CV] END .......max_depth=8, max_features=2, n_estimators=50; total time=   0.1s\n",
      "[CV] END .......max_depth=8, max_features=2, n_estimators=50; total time=   0.1s\n",
      "[CV] END .......max_depth=8, max_features=2, n_estimators=75; total time=   0.2s\n",
      "[CV] END .......max_depth=8, max_features=2, n_estimators=75; total time=   0.2s\n",
      "[CV] END .......max_depth=8, max_features=2, n_estimators=75; total time=   0.2s\n",
      "[CV] END ......max_depth=8, max_features=2, n_estimators=100; total time=   0.3s\n",
      "[CV] END ......max_depth=8, max_features=2, n_estimators=100; total time=   0.3s\n",
      "[CV] END ......max_depth=8, max_features=2, n_estimators=100; total time=   0.3s\n",
      "[CV] END .......max_depth=8, max_features=3, n_estimators=25; total time=   0.1s\n",
      "[CV] END .......max_depth=8, max_features=3, n_estimators=25; total time=   0.1s\n",
      "[CV] END .......max_depth=8, max_features=3, n_estimators=25; total time=   0.1s\n",
      "[CV] END .......max_depth=8, max_features=3, n_estimators=50; total time=   0.1s\n",
      "[CV] END .......max_depth=8, max_features=3, n_estimators=50; total time=   0.1s\n",
      "[CV] END .......max_depth=8, max_features=3, n_estimators=50; total time=   0.1s\n",
      "[CV] END .......max_depth=8, max_features=3, n_estimators=75; total time=   0.2s\n",
      "[CV] END .......max_depth=8, max_features=3, n_estimators=75; total time=   0.2s\n",
      "[CV] END .......max_depth=8, max_features=3, n_estimators=75; total time=   0.2s\n",
      "[CV] END ......max_depth=8, max_features=3, n_estimators=100; total time=   0.3s\n",
      "[CV] END ......max_depth=8, max_features=3, n_estimators=100; total time=   0.3s\n",
      "[CV] END ......max_depth=8, max_features=3, n_estimators=100; total time=   0.3s\n",
      "[CV] END .......max_depth=8, max_features=4, n_estimators=25; total time=   0.1s\n",
      "[CV] END .......max_depth=8, max_features=4, n_estimators=25; total time=   0.1s\n",
      "[CV] END .......max_depth=8, max_features=4, n_estimators=25; total time=   0.1s\n",
      "[CV] END .......max_depth=8, max_features=4, n_estimators=50; total time=   0.1s\n",
      "[CV] END .......max_depth=8, max_features=4, n_estimators=50; total time=   0.1s\n",
      "[CV] END .......max_depth=8, max_features=4, n_estimators=50; total time=   0.1s\n",
      "[CV] END .......max_depth=8, max_features=4, n_estimators=75; total time=   0.2s\n",
      "[CV] END .......max_depth=8, max_features=4, n_estimators=75; total time=   0.2s\n",
      "[CV] END .......max_depth=8, max_features=4, n_estimators=75; total time=   0.2s\n",
      "[CV] END ......max_depth=8, max_features=4, n_estimators=100; total time=   0.3s\n",
      "[CV] END ......max_depth=8, max_features=4, n_estimators=100; total time=   0.3s\n",
      "[CV] END ......max_depth=8, max_features=4, n_estimators=100; total time=   0.3s\n",
      "[CV] END ......max_depth=10, max_features=2, n_estimators=25; total time=   0.1s\n",
      "[CV] END ......max_depth=10, max_features=2, n_estimators=25; total time=   0.1s\n",
      "[CV] END ......max_depth=10, max_features=2, n_estimators=25; total time=   0.1s\n",
      "[CV] END ......max_depth=10, max_features=2, n_estimators=50; total time=   0.1s\n",
      "[CV] END ......max_depth=10, max_features=2, n_estimators=50; total time=   0.1s\n",
      "[CV] END ......max_depth=10, max_features=2, n_estimators=50; total time=   0.1s\n",
      "[CV] END ......max_depth=10, max_features=2, n_estimators=75; total time=   0.2s\n",
      "[CV] END ......max_depth=10, max_features=2, n_estimators=75; total time=   0.2s\n",
      "[CV] END ......max_depth=10, max_features=2, n_estimators=75; total time=   0.2s\n",
      "[CV] END .....max_depth=10, max_features=2, n_estimators=100; total time=   0.3s\n",
      "[CV] END .....max_depth=10, max_features=2, n_estimators=100; total time=   0.3s\n",
      "[CV] END .....max_depth=10, max_features=2, n_estimators=100; total time=   0.3s\n",
      "[CV] END ......max_depth=10, max_features=3, n_estimators=25; total time=   0.1s\n",
      "[CV] END ......max_depth=10, max_features=3, n_estimators=25; total time=   0.1s\n",
      "[CV] END ......max_depth=10, max_features=3, n_estimators=25; total time=   0.1s\n",
      "[CV] END ......max_depth=10, max_features=3, n_estimators=50; total time=   0.1s\n",
      "[CV] END ......max_depth=10, max_features=3, n_estimators=50; total time=   0.1s\n",
      "[CV] END ......max_depth=10, max_features=3, n_estimators=50; total time=   0.1s\n",
      "[CV] END ......max_depth=10, max_features=3, n_estimators=75; total time=   0.2s\n",
      "[CV] END ......max_depth=10, max_features=3, n_estimators=75; total time=   0.2s\n",
      "[CV] END ......max_depth=10, max_features=3, n_estimators=75; total time=   0.2s\n",
      "[CV] END .....max_depth=10, max_features=3, n_estimators=100; total time=   0.3s\n",
      "[CV] END .....max_depth=10, max_features=3, n_estimators=100; total time=   0.3s\n",
      "[CV] END .....max_depth=10, max_features=3, n_estimators=100; total time=   0.3s\n",
      "[CV] END ......max_depth=10, max_features=4, n_estimators=25; total time=   0.1s\n",
      "[CV] END ......max_depth=10, max_features=4, n_estimators=25; total time=   0.1s\n",
      "[CV] END ......max_depth=10, max_features=4, n_estimators=25; total time=   0.1s\n",
      "[CV] END ......max_depth=10, max_features=4, n_estimators=50; total time=   0.1s\n",
      "[CV] END ......max_depth=10, max_features=4, n_estimators=50; total time=   0.1s\n",
      "[CV] END ......max_depth=10, max_features=4, n_estimators=50; total time=   0.1s\n",
      "[CV] END ......max_depth=10, max_features=4, n_estimators=75; total time=   0.2s\n",
      "[CV] END ......max_depth=10, max_features=4, n_estimators=75; total time=   0.2s\n",
      "[CV] END ......max_depth=10, max_features=4, n_estimators=75; total time=   0.2s\n",
      "[CV] END .....max_depth=10, max_features=4, n_estimators=100; total time=   0.3s\n",
      "[CV] END .....max_depth=10, max_features=4, n_estimators=100; total time=   0.3s\n",
      "[CV] END .....max_depth=10, max_features=4, n_estimators=100; total time=   0.3s\n"
     ]
    },
    {
     "name": "stderr",
     "output_type": "stream",
     "text": [
      "Registered model 'RandomForestModel' already exists. Creating a new version of this model...\n",
      "2025/03/16 11:54:34 INFO mlflow.tracking._model_registry.client: Waiting up to 300 seconds for model version to finish creation. Model name: RandomForestModel, version 42\n",
      "Created version '42' of model 'RandomForestModel'.\n",
      "2025/03/16 11:54:37 INFO mlflow.sklearn.utils: Logging the 5 best runs, 43 runs will be omitted.\n"
     ]
    },
    {
     "name": "stdout",
     "output_type": "stream",
     "text": [
      "Mejor modelo encontrado con parámetros: {'max_depth': 6, 'max_features': 2, 'n_estimators': 25}\n",
      "Todos los experimentos fueron registrados en MLflow.\n"
     ]
    }
   ],
   "source": [
    "#GridSearch\n",
    "\n",
    "# ---------------- Conectar y obtener datos de MySQL ----------------\n",
    "try:\n",
    "    conn = mysql.connector.connect(**DB_CONFIG)\n",
    "    cursor = conn.cursor()\n",
    "    \n",
    "    # Obtener datos preprocesados\n",
    "    cursor.execute(\"SELECT species, culmen_length_mm, culmen_depth_mm, flipper_length_mm, body_mass_g FROM penguins_clean\")\n",
    "    df = pd.DataFrame(cursor.fetchall(), columns=[desc[0] for desc in cursor.description])\n",
    "\n",
    "    # Cerrar conexión a MySQL\n",
    "    cursor.close()\n",
    "    conn.close()\n",
    "\n",
    "    print(\"Datos cargados exitosamente desde MySQL\")\n",
    "\n",
    "except mysql.connector.Error as err:\n",
    "    print(f\"Error al conectar a MySQL: {err}\")\n",
    "    exit()\n",
    "\n",
    "# ---------------- Preparación de datos ----------------\n",
    "X = df[['culmen_length_mm', 'culmen_depth_mm', 'flipper_length_mm', 'body_mass_g']]\n",
    "y = df['species']\n",
    "\n",
    "# Convertir la variable objetivo a valores numéricos con LabelEncoder\n",
    "label_encoder = LabelEncoder()\n",
    "y = label_encoder.fit_transform(y)\n",
    "\n",
    "# Guardar el LabelEncoder para usarlo en la inferencia\n",
    "with open(\"label_encoder.pkl\", \"wb\") as f:\n",
    "    pickle.dump(label_encoder, f)\n",
    "\n",
    "# Dividir en entrenamiento y prueba\n",
    "X_train, X_test, y_train, y_test = train_test_split(X, y, test_size=0.2, random_state=42)\n",
    "\n",
    "# ---------------- Configuración de MLflow ----------------\n",
    "mlflow.set_tracking_uri(\"http://10.43.101.195:5000\")\n",
    "mlflow.set_experiment(\"taller_grupo5\")\n",
    "\n",
    "# ---------------- Definir GridSearch con hiperparámetros ----------------\n",
    "param_grid = {\n",
    "    \"n_estimators\": [25, 50, 75, 100],\n",
    "    \"max_depth\": [4, 6, 8, 10],\n",
    "    \"max_features\": [2, 3, 4]\n",
    "}\n",
    "\n",
    "# Crear modelo base\n",
    "rf = RandomForestClassifier(random_state=42)\n",
    "\n",
    "# Aplicar GridSearchCV para encontrar la mejor combinación\n",
    "grid_search = GridSearchCV(estimator=rf, param_grid=param_grid, cv=3, verbose=2)\n",
    "\n",
    "# Guardar el LabelEncoder para usarlo en la inferencia\n",
    "label_encoder_path = \"label_encoder.pkl\"\n",
    "with open(label_encoder_path, \"wb\") as f:\n",
    "    pickle.dump(label_encoder, f)\n",
    "    \n",
    "# ---------------- Ejecutar entrenamiento con MLflow ----------------\n",
    "with mlflow.start_run(run_name=\"rf_grid_search_v5\"):\n",
    "    grid_search.fit(X_train, y_train)\n",
    "\n",
    "    # Obtener mejor modelo\n",
    "    best_model = grid_search.best_estimator_\n",
    "\n",
    "    # Registrar hiperparámetros en MLflow\n",
    "    mlflow.log_params(grid_search.best_params_)\n",
    "\n",
    "    # Guardar el mejor modelo en MLflow\n",
    "    mlflow.sklearn.log_model(best_model, \"RandomForestModel\")\n",
    "\n",
    "    # Subir el LabelEncoder a MLflow\n",
    "    mlflow.log_artifact(label_encoder_path)\n",
    "\n",
    "    print(f\"Mejor modelo encontrado con parámetros: {grid_search.best_params_}\")\n",
    "\n",
    "print(\"Todos los experimentos fueron registrados en MLflow.\")\n"
   ]
  },
  {
   "cell_type": "code",
   "execution_count": null,
   "id": "ba179fef-089b-411a-bce7-88c59c7fc6e1",
   "metadata": {},
   "outputs": [],
   "source": []
  }
 ],
 "metadata": {
  "kernelspec": {
   "display_name": "Python 3 (ipykernel)",
   "language": "python",
   "name": "python3"
  },
  "language_info": {
   "codemirror_mode": {
    "name": "ipython",
    "version": 3
   },
   "file_extension": ".py",
   "mimetype": "text/x-python",
   "name": "python",
   "nbconvert_exporter": "python",
   "pygments_lexer": "ipython3",
   "version": "3.9.21"
  }
 },
 "nbformat": 4,
 "nbformat_minor": 5
}
