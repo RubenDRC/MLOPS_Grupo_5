{
 "cells": [
  {
   "cell_type": "code",
   "execution_count": null,
   "metadata": {},
   "outputs": [],
   "source": [
    "import mysql.connector\n",
    "import pandas as pd\n",
    "import os"
   ]
  },
  {
   "cell_type": "code",
   "execution_count": 7,
   "metadata": {},
   "outputs": [],
   "source": [
    "# Configura tus credenciales\n",
    "DB_HOST = \"localhost\"      # O \"127.0.0.1\", o el nombre del servicio (por ejemplo, \"mysql\" en Docker)\n",
    "DB_USER = \"airflow\"\n",
    "DB_PASSWORD = \"airflow\"\n",
    "DB_NAME = \"airflow\"\n",
    "\n",
    "csv_file = \"data/penguins_size.csv\"  # Ruta al archivo CSV"
   ]
  },
  {
   "cell_type": "code",
   "execution_count": 8,
   "metadata": {},
   "outputs": [],
   "source": [
    "# ---------------------------------------------------------\n",
    "# Paso 2: Función para verificar archivo CSV\n",
    "# ---------------------------------------------------------\n",
    "def file_validator(filepath):\n",
    "    if not os.path.exists(filepath):\n",
    "        raise FileNotFoundError(f\"El archivo {filepath} no existe.\")\n",
    "    print(f\"El archivo {filepath} existe. OK!\")"
   ]
  },
  {
   "cell_type": "code",
   "execution_count": 9,
   "metadata": {},
   "outputs": [],
   "source": [
    "# ---------------------------------------------------------\n",
    "# Paso 3: Función para crear (o reiniciar) la tabla 'penguins'\n",
    "# ---------------------------------------------------------\n",
    "def drop_and_create_table():\n",
    "    try:\n",
    "        conn = mysql.connector.connect(\n",
    "            host=DB_HOST,\n",
    "            user=DB_USER,\n",
    "            password=DB_PASSWORD,\n",
    "            database=DB_NAME\n",
    "        )\n",
    "        cursor = conn.cursor()\n",
    "\n",
    "        # Eliminar la tabla si existe\n",
    "        cursor.execute(\"DROP TABLE IF EXISTS penguins;\")\n",
    "\n",
    "        # Crear la tabla\n",
    "        cursor.execute('''\n",
    "            CREATE TABLE penguins (\n",
    "                id INT AUTO_INCREMENT PRIMARY KEY,\n",
    "                species VARCHAR(50),\n",
    "                island VARCHAR(50),\n",
    "                culmen_length_mm FLOAT,\n",
    "                culmen_depth_mm FLOAT,\n",
    "                flipper_length_mm FLOAT,\n",
    "                body_mass_g FLOAT,\n",
    "                sex VARCHAR(10)\n",
    "            );\n",
    "        ''')\n",
    "        conn.commit()\n",
    "        print(\"Tabla 'penguins' creada (o reiniciada) correctamente.\")\n",
    "    except Exception as e:\n",
    "        print(f\"Error al crear/reiniciar la tabla: {e}\")\n",
    "    finally:\n",
    "        cursor.close()\n",
    "        conn.close()"
   ]
  },
  {
   "cell_type": "code",
   "execution_count": 10,
   "metadata": {},
   "outputs": [],
   "source": [
    "# ---------------------------------------------------------\n",
    "# Paso 4: Función para cargar datos en la tabla 'penguins'\n",
    "# ---------------------------------------------------------\n",
    "def load_data_to_mysql(filepath):\n",
    "    try:\n",
    "        # Leer el CSV con pandas\n",
    "        df = pd.read_csv(filepath)\n",
    "        # Eliminamos filas con nulos\n",
    "        df = df.dropna()\n",
    "\n",
    "        conn = mysql.connector.connect(\n",
    "            host=DB_HOST,\n",
    "            user=DB_USER,\n",
    "            password=DB_PASSWORD,\n",
    "            database=DB_NAME\n",
    "        )\n",
    "        cursor = conn.cursor()\n",
    "\n",
    "        # Inserción fila por fila\n",
    "        for _, row in df.iterrows():\n",
    "            cursor.execute(\n",
    "                \"\"\"\n",
    "                INSERT INTO penguins \n",
    "                (species, island, culmen_length_mm, culmen_depth_mm, flipper_length_mm, body_mass_g, sex)\n",
    "                VALUES (%s, %s, %s, %s, %s, %s, %s);\n",
    "                \"\"\",\n",
    "                (\n",
    "                    row['species'],\n",
    "                    row['island'],\n",
    "                    row['culmen_length_mm'],\n",
    "                    row['culmen_depth_mm'],\n",
    "                    row['flipper_length_mm'],\n",
    "                    row['body_mass_g'],\n",
    "                    row['sex']\n",
    "                )\n",
    "            )\n",
    "        conn.commit()\n",
    "        print(\"Datos insertados correctamente en la tabla 'penguins'.\")\n",
    "    except Exception as e:\n",
    "        print(f\"Error al cargar los datos: {e}\")\n",
    "    finally:\n",
    "        cursor.close()\n",
    "        conn.close()"
   ]
  },
  {
   "cell_type": "code",
   "execution_count": 11,
   "metadata": {},
   "outputs": [
    {
     "name": "stdout",
     "output_type": "stream",
     "text": [
      "El archivo data/penguins_size.csv existe. OK!\n",
      "Tabla 'penguins' creada (o reiniciada) correctamente.\n",
      "Datos insertados correctamente en la tabla 'penguins'.\n",
      "Proceso completado.\n"
     ]
    }
   ],
   "source": [
    "# ---------------------------------------------------------\n",
    "# Paso 5: Ejecutar todo en orden\n",
    "# ---------------------------------------------------------\n",
    "\n",
    "# 1. Validar archivo\n",
    "file_validator(csv_file)\n",
    "\n",
    "# 2. Crear (o reiniciar) la tabla\n",
    "drop_and_create_table()\n",
    "\n",
    "# 3. Cargar datos\n",
    "load_data_to_mysql(csv_file)\n",
    "\n",
    "print(\"Proceso completado.\")"
   ]
  },
  {
   "cell_type": "code",
   "execution_count": null,
   "metadata": {},
   "outputs": [],
   "source": []
  }
 ],
 "metadata": {
  "kernelspec": {
   "display_name": ".venv",
   "language": "python",
   "name": "python3"
  },
  "language_info": {
   "codemirror_mode": {
    "name": "ipython",
    "version": 3
   },
   "file_extension": ".py",
   "mimetype": "text/x-python",
   "name": "python",
   "nbconvert_exporter": "python",
   "pygments_lexer": "ipython3",
   "version": "3.10.0"
  }
 },
 "nbformat": 4,
 "nbformat_minor": 2
}
